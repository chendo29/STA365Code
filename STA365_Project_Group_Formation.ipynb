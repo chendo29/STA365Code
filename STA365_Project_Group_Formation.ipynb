{
  "nbformat": 4,
  "nbformat_minor": 0,
  "metadata": {
    "colab": {
      "provenance": [],
      "authorship_tag": "ABX9TyNnMceOFjHa/lwBmF9aRxXc"
    },
    "kernelspec": {
      "name": "python3",
      "display_name": "Python 3"
    },
    "language_info": {
      "name": "python"
    }
  },
  "cells": [
    {
      "cell_type": "markdown",
      "source": [
        "# Project Group Formation\n",
        "\n",
        "Hao Li: hao.ni@mail.utoronto.ca\n",
        "Yadong Yang: yyd.yang@mail.utoronto.ca\n",
        "Mengfei Wang: mf.wang@mail.utoronto.ca\n",
        "Dongli Chen: dongli.chen@mail.utoronto.ca"
      ],
      "metadata": {
        "id": "8JJmKoc5dHg5"
      }
    }
  ]
}